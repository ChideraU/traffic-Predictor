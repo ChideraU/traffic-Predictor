{
  "nbformat": 4,
  "nbformat_minor": 0,
  "metadata": {
    "colab": {
      "name": "Untitled0.ipynb",
      "version": "0.3.2",
      "provenance": [],
      "collapsed_sections": [],
      "include_colab_link": true
    },
    "kernelspec": {
      "name": "python3",
      "display_name": "Python 3"
    }
  },
  "cells": [
    {
      "cell_type": "markdown",
      "metadata": {
        "id": "view-in-github",
        "colab_type": "text"
      },
      "source": [
        "<a href=\"https://colab.research.google.com/github/ChideraU/traffic-Predictor/blob/master/trafficPredictor.ipynb\" target=\"_parent\"><img src=\"https://colab.research.google.com/assets/colab-badge.svg\" alt=\"Open In Colab\"/></a>"
      ]
    },
    {
      "metadata": {
        "id": "NcVlz4m_xPKR",
        "colab_type": "code",
        "colab": {
          "base_uri": "https://localhost:8080/",
          "height": 102
        },
        "outputId": "269c7bf8-aefc-4f53-c860-7f6e272f0a04"
      },
      "cell_type": "code",
      "source": [
        "#from google.colab import drive\n",
        "#drive.mount('/content/drive/')\n",
        "\n",
        "import pandas as pd\n",
        "import datetime\n",
        "\n",
        "data = pd.read_csv(\"/content/drive/My Drive/rawpvr_2018-02-01_28d_1083 TueFri.csv\")\n",
        "\n",
        "data.head()\n",
        "\n",
        "for i in range(0, 5):\n",
        "  temp = data.iloc[i][0].split(\" \")\n",
        "  year,month,day = temp[0].split(\"-\")\n",
        "  \n",
        "  #Get teh \n",
        "  flag = datetime.date(int(year), int(month), int(day)).weekday() + 1\n",
        "  \n",
        "  #Get the day of the week\n",
        "  flagText = datetime.date(int(year), int(month), int(day)).strftime(\"%A\")\n",
        "  print(flag, flagText)\n",
        "  \n",
        "  \n",
        "\n",
        "\n"
      ],
      "execution_count": 53,
      "outputs": [
        {
          "output_type": "stream",
          "text": [
            "5 Friday\n",
            "5 Friday\n",
            "5 Friday\n",
            "5 Friday\n",
            "5 Friday\n"
          ],
          "name": "stdout"
        }
      ]
    },
    {
      "metadata": {
        "id": "6etLTpgazeu9",
        "colab_type": "code",
        "colab": {}
      },
      "cell_type": "code",
      "source": [
        ""
      ],
      "execution_count": 0,
      "outputs": []
    }
  ]
}