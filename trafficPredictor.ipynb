{
  "nbformat": 4,
  "nbformat_minor": 0,
  "metadata": {
    "colab": {
      "name": "trafficPredictor.ipynb",
      "version": "0.3.2",
      "provenance": [],
      "collapsed_sections": [],
      "include_colab_link": true
    },
    "kernelspec": {
      "name": "python3",
      "display_name": "Python 3"
    },
    "accelerator": "TPU"
  },
  "cells": [
    {
      "cell_type": "markdown",
      "metadata": {
        "id": "view-in-github",
        "colab_type": "text"
      },
      "source": [
        "<a href=\"https://colab.research.google.com/github/ChideraU/traffic-Predictor/blob/master/trafficPredictor.ipynb\" target=\"_parent\"><img src=\"https://colab.research.google.com/assets/colab-badge.svg\" alt=\"Open In Colab\"/></a>"
      ]
    },
    {
      "metadata": {
        "id": "NcVlz4m_xPKR",
        "colab_type": "code",
        "colab": {}
      },
      "cell_type": "code",
      "source": [
        "#from google.colab import drive\n",
        "#drive.mount('/content/drive/')\n",
        "\n",
        "import pandas as pd\n",
        "import numpy as np\n",
        "import datetime\n",
        "\n",
        "#Read the CSV file and replace the NaN values with empty strings\n",
        "data = pd.read_csv(\"/content/drive/My Drive/rawpvr_2018-02-01_28d_1083 TueFri.csv\")\n",
        "data = data.replace(np.nan, '', regex=True)\n",
        "\n",
        "#Update the flags and flag Text columns with the appropriate days of the week \n",
        "#and their corresponding numbers\n",
        "for i in range(0, len(data)):\n",
        "  #Get the date and time and then the date from the data\n",
        "  temp = data.iloc[i][0].split(\" \")\n",
        "  year,month,day = temp[0].split(\"-\")\n",
        "  \n",
        "  #Get the a number for the corresponding day of the week\n",
        "  flag = datetime.date(int(year), int(month), int(day)).weekday() + 1\n",
        "  \n",
        "  #Get the day of the week\n",
        "  flagText = datetime.date(int(year), int(month), int(day)).strftime(\"%A\")\n",
        "  \n",
        "  data.iat[i,8] = flag\n",
        "  data.iat[i,9] = flagText\n",
        "    \n",
        "  \n",
        "  \n",
        "  \n",
        "  \n",
        "  \n",
        "\n",
        "\n"
      ],
      "execution_count": 0,
      "outputs": []
    },
    {
      "metadata": {
        "id": "6etLTpgazeu9",
        "colab_type": "code",
        "colab": {}
      },
      "cell_type": "code",
      "source": [
        ""
      ],
      "execution_count": 0,
      "outputs": []
    }
  ]
}